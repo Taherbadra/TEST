{
 "cells": [
  {
   "cell_type": "markdown",
   "id": "5f23c3b2-ebea-4658-a5c3-b1872db94a51",
   "metadata": {
    "jupyter": {
     "source_hidden": true
    },
    "tags": []
   },
   "source": [
    "# My Jupyter Notebook on IBM Data Science Experience"
   ]
  },
  {
   "cell_type": "markdown",
   "id": "4104b5a0-7023-415e-8a46-85450c8c275f",
   "metadata": {},
   "source": [
    " **TAHER BADRA**"
   ]
  },
  {
   "cell_type": "markdown",
   "id": "f3f681de-686d-47e1-b133-12e57bb20d9e",
   "metadata": {},
   "source": [
    "I want to be a data analyst in the field of football"
   ]
  },
  {
   "cell_type": "markdown",
   "id": "04f9d35e-8e36-4805-af65-5e5b61ceff73",
   "metadata": {},
   "source": [
    "*Data science is one of the broadest fields available for individuals with a mathematical or statistical background. There are plenty of open positions that require data science skills.*"
   ]
  },
  {
   "cell_type": "markdown",
   "id": "fe125f33-747b-4333-8897-d0a425813497",
   "metadata": {},
   "source": [
    "### The following code sets a numeric variable to 1, then adds 1 to the variable. The value is printed in a sentence.\n"
   ]
  },
  {
   "cell_type": "code",
   "execution_count": 1,
   "id": "6294e7ee-4b8c-4908-83fc-60d9ec0f2faa",
   "metadata": {},
   "outputs": [
    {
     "name": "stdout",
     "output_type": "stream",
     "text": [
      "The value of a is 2\n"
     ]
    }
   ],
   "source": [
    "B= 1\n",
    "B= B + 1\n",
    "print(\"The value of a is\", B)"
   ]
  },
  {
   "cell_type": "markdown",
   "id": "6354d9eb-7400-4b63-a23b-76bbce65d74d",
   "metadata": {},
   "source": [
    "# Courses to become a data scientist\n",
    "1-IBM Data Science\n",
    "\n",
    "2-IBM Data analyst\n",
    "* Data cleaning\n",
    "\n",
    "* data validation\n",
    "* data visualization\n",
    "\n",
    "[www.ibm.com](https://www.ibm.com/eg-en)"
   ]
  },
  {
   "cell_type": "code",
   "execution_count": null,
   "id": "7e791985-8c00-40ff-ba42-c551edf72e9f",
   "metadata": {},
   "outputs": [],
   "source": []
  }
 ],
 "metadata": {
  "kernelspec": {
   "display_name": "Python",
   "language": "python",
   "name": "conda-env-python-py"
  },
  "language_info": {
   "codemirror_mode": {
    "name": "ipython",
    "version": 3
   },
   "file_extension": ".py",
   "mimetype": "text/x-python",
   "name": "python",
   "nbconvert_exporter": "python",
   "pygments_lexer": "ipython3",
   "version": "3.7.12"
  }
 },
 "nbformat": 4,
 "nbformat_minor": 5
}
